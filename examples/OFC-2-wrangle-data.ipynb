{
 "cells": [
  {
   "cell_type": "code",
   "execution_count": 1,
   "metadata": {},
   "outputs": [],
   "source": [
    "import matplotlib.pyplot as plt\n",
    "import numpy as np\n",
    "%matplotlib inline\n",
    "from scipy.io import loadmat\n",
    "import os\n",
    "from glob import glob"
   ]
  },
  {
   "cell_type": "code",
   "execution_count": 2,
   "metadata": {},
   "outputs": [],
   "source": [
    "# REPLACE WITH THE PATH TO YOUR DOWNLOAD OF OFC-2 #\n",
    "dpath = '/Users/alex/Dropbox/data/crcns/ofc-2/'"
   ]
  },
  {
   "cell_type": "code",
   "execution_count": 3,
   "metadata": {},
   "outputs": [],
   "source": [
    "rats = os.listdir(dpath)\n",
    "sessions = {r: os.listdir(os.path.join(dpath, r)) for r in rats}\n",
    "tmax = 6.0  # maximum time for a trial\n",
    "\n",
    "def load(rat=0, sess=0):\n",
    "    r = rats[rat] if type(rat)==int else rat\n",
    "    p = os.path.join(dpath, r, sessions[r][sess])\n",
    "    spiketimes = [loadmat(f)['TS'].ravel()/1e4 for f in glob(os.path.join(p, 'Sc*'))]\n",
    "    \n",
    "    ev1 = loadmat(os.path.join(p, 'TrialEvents.mat'))\n",
    "    ev2 = loadmat(os.path.join(p, 'TrialEvents2.mat'))\n",
    "    \n",
    "    # collect the important metadata\n",
    "    info = {\n",
    "        'correct': ev2['Correct'].ravel(),\n",
    "        'stim': ev2['OdorCategory'].ravel(),\n",
    "        'choice': ev2['ChoiceDir'].ravel(),\n",
    "        'ratio': ev2['OdorRatio'].ravel(),\n",
    "        'odor_in': ev1['TrialStart'].ravel() + ev1['OdorPokeIn'].ravel(),\n",
    "        'odor_out': ev1['TrialStart'].ravel() + ev1['OdorPokeOut'].ravel(),\n",
    "        'water_in': ev1['TrialStart'].ravel() + ev1['WaterPokeIn'].ravel(),\n",
    "        'water_on': ev1['TrialStart'].ravel() + ev2['WaterValveOn'].ravel(),\n",
    "        'water_out': ev1['TrialStart'].ravel() + ev1['WaterPokeOut'].ravel(),\n",
    "    }\n",
    "    \n",
    "    # align relative to odor_in\n",
    "    for k in ('odor_out', 'water_in', 'water_on', 'water_out'):\n",
    "        info[k] = (info[k] - info['odor_in']) / tmax\n",
    "\n",
    "    # throw out incorrect trials\n",
    "    idx = np.isfinite(info['water_out'])\n",
    "    info = {k: v[idx] for k, v in info.items()}\n",
    "    \n",
    "    # throw out spikes preceding first trial\n",
    "    spiketimes = np.asarray([s[s>info['odor_in'][0]] for s in spiketimes])\n",
    "    \n",
    "    trials, binned = [], []\n",
    "    times, neurons = [], []\n",
    "    for n, st in enumerate(spiketimes):\n",
    "        tr, M = bin_neuron(st, info)\n",
    "        trials += tr.tolist()\n",
    "        binned.append(M)\n",
    "        times += st.tolist()\n",
    "        neurons += [n for _ in range(len(st))]\n",
    "\n",
    "    trials, times, neurons, binned = np.array(trials), np.array(times), np.array(neurons), np.array(binned)\n",
    "    idx = trials >= 0\n",
    "    binned = binned.transpose(1, 2, 0)\n",
    "    for k in info.keys():\n",
    "        info[k] = info[k][np.unique(trials[idx])]\n",
    "    info.pop('odor_in')  # this is aligned to be timepoint zero, so it is redundant/confusing to leave it in.\n",
    "    return trials[idx], times[idx]/tmax, neurons[idx], binned[np.unique(trials[idx])], info"
   ]
  },
  {
   "cell_type": "code",
   "execution_count": 4,
   "metadata": {},
   "outputs": [],
   "source": [
    "from numba import jit\n",
    "\n",
    "@jit(nopython=True)\n",
    "def _bin(trials, times, binned, start_times):\n",
    "    # trial counter\n",
    "    K = len(start_times)\n",
    "    k = 0\n",
    "\n",
    "    # number of spike bins in a trial\n",
    "    nbins = binned.shape[1]\n",
    "    \n",
    "    # add each spike to M\n",
    "    for i in range(len(times)):\n",
    "        # get spike time\n",
    "        s = times[i]\n",
    "        # ignore spikes preceding first trial\n",
    "        if s < start_times[k]:\n",
    "            continue\n",
    "        # advance to next trial\n",
    "        while (k + 1 < K) and (s > start_times[k+1]):\n",
    "            k += 1\n",
    "        # find bin\n",
    "        t = int(nbins * ((s-start_times[k]) / tmax))\n",
    "        if t < nbins:\n",
    "            binned[k, t] += 1\n",
    "            trials[i] = k\n",
    "            times[i] = times[i] - start_times[k]\n",
    "\n",
    "def bin_neuron(st, info):\n",
    "    K = len(info['odor_out'])\n",
    "    M = np.zeros((K, 200))\n",
    "    trials = np.full(len(st), -1)\n",
    "    _bin(trials, st, M, info['odor_in'])\n",
    "    return trials, M"
   ]
  },
  {
   "cell_type": "code",
   "execution_count": 5,
   "metadata": {},
   "outputs": [],
   "source": [
    "fields = ['trials', 'times', 'neurons', 'binned', 'metadata']\n",
    "data = {k: v for k, v in zip(fields, load(rat=0, sess=3))}"
   ]
  },
  {
   "cell_type": "code",
   "execution_count": 6,
   "metadata": {},
   "outputs": [],
   "source": [
    "import deepdish as dd\n",
    "dd.io.save('ofc2_data.h5', data)"
   ]
  }
 ],
 "metadata": {
  "kernelspec": {
   "display_name": "Python 3",
   "language": "python",
   "name": "python3"
  },
  "language_info": {
   "codemirror_mode": {
    "name": "ipython",
    "version": 3
   },
   "file_extension": ".py",
   "mimetype": "text/x-python",
   "name": "python",
   "nbconvert_exporter": "python",
   "pygments_lexer": "ipython3",
   "version": "3.6.4"
  }
 },
 "nbformat": 4,
 "nbformat_minor": 2
}
