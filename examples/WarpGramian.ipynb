{
 "cells": [
  {
   "cell_type": "code",
   "execution_count": 1,
   "metadata": {},
   "outputs": [],
   "source": [
    "import numpy as np\n",
    "import matplotlib.pyplot as plt\n",
    "%matplotlib inline"
   ]
  },
  {
   "cell_type": "code",
   "execution_count": 2,
   "metadata": {},
   "outputs": [],
   "source": [
    "from affinewarp import AffineWarping\n",
    "data = np.random.randn(10, 11, 12)\n",
    "model = AffineWarping(data)"
   ]
  },
  {
   "cell_type": "code",
   "execution_count": 3,
   "metadata": {},
   "outputs": [
    {
     "data": {
      "text/plain": [
       "<matplotlib.image.AxesImage at 0x180c615908>"
      ]
     },
     "execution_count": 3,
     "metadata": {},
     "output_type": "execute_result"
    },
    {
     "data": {
      "image/png": "[encoded data removed]",
      "text/plain": [
       "<Figure size 432x288 with 1 Axes>"
      ]
     },
     "metadata": {},
     "output_type": "display_data"
    }
   ],
   "source": [
    "kkk = 5\n",
    "W = model._warping_matrices()[kkk]\n",
    "plt.imshow(W)"
   ]
  },
  {
   "cell_type": "code",
   "execution_count": 4,
   "metadata": {},
   "outputs": [
    {
     "data": {
      "text/plain": [
       "[<matplotlib.lines.Line2D at 0x180c66bbe0>]"
      ]
     },
     "execution_count": 4,
     "metadata": {},
     "output_type": "execute_result"
    },
    {
     "data": {
      "image/png": "[encoded data removed]",
      "text/plain": [
       "<Figure size 432x288 with 1 Axes>"
      ]
     },
     "metadata": {},
     "output_type": "display_data"
    }
   ],
   "source": [
    "plt.plot(model.warping_funcs[kkk])"
   ]
  },
  {
   "cell_type": "code",
   "execution_count": 5,
   "metadata": {},
   "outputs": [
    {
     "data": {
      "text/plain": [
       "<matplotlib.image.AxesImage at 0x180c10bf98>"
      ]
     },
     "execution_count": 5,
     "metadata": {},
     "output_type": "execute_result"
    },
    {
     "data": {
      "image/png": "[encoded data removed]",
      "text/plain": [
       "<Figure size 432x288 with 1 Axes>"
      ]
     },
     "metadata": {},
     "output_type": "display_data"
    }
   ],
   "source": [
    "G = np.dot(W.T, W)\n",
    "plt.imshow(G)"
   ]
  },
  {
   "cell_type": "code",
   "execution_count": 6,
   "metadata": {},
   "outputs": [
    {
     "name": "stdout",
     "output_type": "stream",
     "text": [
      "[6.97470815e-04 9.47878125e-01 9.07800076e-01 7.75153610e-01\n",
      " 6.63491789e-01 5.73512084e-01 5.05214496e-01 4.58599024e-01\n",
      " 4.33665668e-01 4.30414429e-01 2.31650106e+00]\n",
      "[0.0257122  0.         0.04498535 0.10623679 0.15664718 0.1962165\n",
      " 0.22494476 0.24283197 0.24987812 0.24608321]\n"
     ]
    }
   ],
   "source": [
    "from affinewarp.utils import modf, _reduce_sum_assign, _reduce_sum_assign_matrix\n",
    "\n",
    "T = model.n_timepoints\n",
    "wfunc = model.warping_funcs[5]\n",
    "lam, i = modf(wfunc * (T-1))\n",
    "\n",
    "b = np.zeros(T)\n",
    "_reduce_sum_assign(b, i, (1-lam)**2)\n",
    "_reduce_sum_assign(b, i+1, lam**2)\n",
    "print(b)\n",
    "\n",
    "a = np.zeros(T-1)\n",
    "_reduce_sum_assign(a, i, lam*(1-lam))\n",
    "print(a)"
   ]
  },
  {
   "cell_type": "code",
   "execution_count": 7,
   "metadata": {},
   "outputs": [
    {
     "name": "stdout",
     "output_type": "stream",
     "text": [
      "[6.97470815e-04 9.47878125e-01 9.07800076e-01 7.75153610e-01\n",
      " 6.63491789e-01 5.73512084e-01 5.05214496e-01 4.58599024e-01\n",
      " 4.33665668e-01 4.30414429e-01 2.31650106e+00]\n",
      "[0.0257122  0.         0.04498535 0.10623679 0.15664718 0.1962165\n",
      " 0.22494476 0.24283197 0.24987812 0.24608321]\n"
     ]
    }
   ],
   "source": [
    "print(np.diag(G))\n",
    "print(np.diag(G, -1))"
   ]
  },
  {
   "cell_type": "code",
   "execution_count": 8,
   "metadata": {},
   "outputs": [
    {
     "data": {
      "text/plain": [
       "<matplotlib.image.AxesImage at 0x180c02c048>"
      ]
     },
     "execution_count": 8,
     "metadata": {},
     "output_type": "execute_result"
    },
    {
     "data": {
      "image/png": "[encoded data removed]",
      "text/plain": [
       "<Figure size 432x288 with 1 Axes>"
      ]
     },
     "metadata": {},
     "output_type": "display_data"
    }
   ],
   "source": [
    "X = data[0]\n",
    "plt.imshow(np.dot(W.T, X))"
   ]
  },
  {
   "cell_type": "code",
   "execution_count": 9,
   "metadata": {},
   "outputs": [
    {
     "data": {
      "text/plain": [
       "<matplotlib.image.AxesImage at 0x180c2aa2e8>"
      ]
     },
     "execution_count": 9,
     "metadata": {},
     "output_type": "execute_result"
    },
    {
     "data": {
      "image/png": "[encoded data removed]",
      "text/plain": [
       "<Figure size 432x288 with 1 Axes>"
      ]
     },
     "metadata": {},
     "output_type": "display_data"
    }
   ],
   "source": [
    "WtX = np.zeros(X.shape)\n",
    "_reduce_sum_assign_matrix(WtX, i, (1-lam[:, None]) * X)\n",
    "_reduce_sum_assign_matrix(WtX, i+1, lam[:, None] * X)\n",
    "plt.imshow(WtX)"
   ]
  },
  {
   "cell_type": "code",
   "execution_count": 169,
   "metadata": {},
   "outputs": [
    {
     "data": {
      "text/plain": [
       "array([0.06563353, 0.        , 0.23277979, 0.15503174, 0.        ,\n",
       "       0.18627618, 0.21504624, 0.        , 0.11038886, 0.24567703])"
      ]
     },
     "execution_count": 169,
     "metadata": {},
     "output_type": "execute_result"
    }
   ],
   "source": [
    "a = np.zeros(T-1)\n",
    "add_elems(a, i, lam*(1-lam))\n",
    "for t in range(T-1):\n",
    "    a[t] = np.sum((lam*(1-lam))[i==t])\n",
    "a"
   ]
  },
  {
   "cell_type": "code",
   "execution_count": 153,
   "metadata": {},
   "outputs": [
    {
     "data": {
      "text/plain": [
       "array([ 0,  0,  0,  2,  3,  5,  6,  8,  9, 10, 10], dtype=int32)"
      ]
     },
     "execution_count": 153,
     "metadata": {},
     "output_type": "execute_result"
    }
   ],
   "source": [
    "i"
   ]
  },
  {
   "cell_type": "code",
   "execution_count": 137,
   "metadata": {},
   "outputs": [
    {
     "data": {
      "text/plain": [
       "array([0.        , 0.        , 0.92937917, 0.        , 0.        ])"
      ]
     },
     "execution_count": 137,
     "metadata": {},
     "output_type": "execute_result"
    }
   ],
   "source": [
    "W[5][:5,1]"
   ]
  },
  {
   "cell_type": "code",
   "execution_count": 85,
   "metadata": {},
   "outputs": [
    {
     "data": {
      "text/plain": [
       "0.8921779490950646"
      ]
     },
     "execution_count": 85,
     "metadata": {},
     "output_type": "execute_result"
    }
   ],
   "source": [
    "0.62087746**2 + 0.71057877**2 + 0.04203499**2"
   ]
  },
  {
   "cell_type": "code",
   "execution_count": 117,
   "metadata": {},
   "outputs": [
    {
     "data": {
      "text/plain": [
       "array([1., 1., 1., 1., 1., 1., 1., 1., 1., 1., 1.])"
      ]
     },
     "execution_count": 117,
     "metadata": {},
     "output_type": "execute_result"
    }
   ],
   "source": [
    "W[5].sum(axis=1)"
   ]
  },
  {
   "cell_type": "code",
   "execution_count": 175,
   "metadata": {},
   "outputs": [],
   "source": [
    "tref = np.linpace(0, 1, 3)\n",
    "betas = np.array([.5, 2])\n",
    "taus = np.array([.1, -.1])\n",
    "np.array([np.clip(tref*b-t, 0, 1) for b, t in zip(betas, taus)])"
   ]
  },
  {
   "cell_type": "code",
   "execution_count": null,
   "metadata": {},
   "outputs": [],
   "source": []
  }
 ],
 "metadata": {
  "kernelspec": {
   "display_name": "Python 3",
   "language": "python",
   "name": "python3"
  },
  "language_info": {
   "codemirror_mode": {
    "name": "ipython",
    "version": 3
   },
   "file_extension": ".py",
   "mimetype": "text/x-python",
   "name": "python",
   "nbconvert_exporter": "python",
   "pygments_lexer": "ipython3",
   "version": "3.6.4"
  }
 },
 "nbformat": 4,
 "nbformat_minor": 2
}
